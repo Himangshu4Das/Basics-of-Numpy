{
 "cells": [
  {
   "cell_type": "code",
   "execution_count": 1,
   "id": "a45cfa6d",
   "metadata": {},
   "outputs": [],
   "source": [
    "import numpy as np"
   ]
  },
  {
   "cell_type": "markdown",
   "id": "4f15eeec",
   "metadata": {},
   "source": [
    "*Lists are slower since they have 4 attributes for each data.\n",
    "\n",
    "    1. Size ( 4 bytes for integers )\n",
    "    2. Reference Count  ( 8 bytes for integers )\n",
    "    3. Object type  ( 8 bytes for integers )\n",
    "    4. Object value ( 8 bytes for integers )\n",
    "    \n",
    "*Lists are not contiguous \n",
    "    1. Pointers to each memory location.\n",
    "    2. partial loading of memory blocks.\n",
    "    \n",
    "*Type checking for each element.\n",
    "\n",
    "\n",
    "*Numpy have only object value and can be changed to int64,32,16,8\n",
    "\n",
    "*No type checking in numpy\n",
    "\n",
    "*Numpy uses contiguous memory\n",
    "\n",
    "    1. Uses Single Instruction Multiple Data ( SIMD Vector Processing )\n",
    "    2. Effective Cache Utilization.\n",
    "    \n",
    " "
   ]
  },
  {
   "cell_type": "markdown",
   "id": "69d62ff7",
   "metadata": {},
   "source": [
    "## The Basics"
   ]
  },
  {
   "cell_type": "code",
   "execution_count": 3,
   "id": "91249ee3",
   "metadata": {},
   "outputs": [
    {
     "name": "stdout",
     "output_type": "stream",
     "text": [
      "Not allowed in lists\n",
      "[ 4 10 18]\n"
     ]
    }
   ],
   "source": [
    "# The following one line multiplication is not allowed in lists but allowed in arrays.\n",
    "try:\n",
    "    a = [1,2,3]\n",
    "    b = [4,5,6]\n",
    "    print(a*b)\n",
    "except:\n",
    "    print(\"Not allowed in lists\")\n",
    "\n",
    "# This is allowed\n",
    "\n",
    "a = np.array([1,2,3])\n",
    "b = np.array([4,5,6])\n",
    "print(a*b)"
   ]
  },
  {
   "cell_type": "code",
   "execution_count": 4,
   "id": "ec0a20c5",
   "metadata": {},
   "outputs": [
    {
     "name": "stdout",
     "output_type": "stream",
     "text": [
      "[1 2 3]\n"
     ]
    }
   ],
   "source": [
    "# Create 1D array\n",
    "a = np.array([1,2,3])\n",
    "print(a)"
   ]
  },
  {
   "cell_type": "code",
   "execution_count": 5,
   "id": "0b25168e",
   "metadata": {},
   "outputs": [],
   "source": [
    "# Create 2D array\n",
    "b = np.array([[9.0,8.0,7.0], [11.0,10.0,9.0]])"
   ]
  },
  {
   "cell_type": "code",
   "execution_count": 6,
   "id": "371adcf8",
   "metadata": {},
   "outputs": [
    {
     "data": {
      "text/plain": [
       "1"
      ]
     },
     "execution_count": 6,
     "metadata": {},
     "output_type": "execute_result"
    }
   ],
   "source": [
    "#Get dimensions\n",
    "a.ndim"
   ]
  },
  {
   "cell_type": "code",
   "execution_count": 7,
   "id": "16accbd9",
   "metadata": {},
   "outputs": [
    {
     "data": {
      "text/plain": [
       "2"
      ]
     },
     "execution_count": 7,
     "metadata": {},
     "output_type": "execute_result"
    }
   ],
   "source": [
    "b.ndim"
   ]
  },
  {
   "cell_type": "code",
   "execution_count": 8,
   "id": "1ef2f82a",
   "metadata": {},
   "outputs": [
    {
     "data": {
      "text/plain": [
       "(3,)"
      ]
     },
     "execution_count": 8,
     "metadata": {},
     "output_type": "execute_result"
    }
   ],
   "source": [
    "#Get shape\n",
    "a.shape   # vector"
   ]
  },
  {
   "cell_type": "code",
   "execution_count": 9,
   "id": "64ca1848",
   "metadata": {},
   "outputs": [
    {
     "data": {
      "text/plain": [
       "(2, 3)"
      ]
     },
     "execution_count": 9,
     "metadata": {},
     "output_type": "execute_result"
    }
   ],
   "source": [
    "b.shape"
   ]
  },
  {
   "cell_type": "code",
   "execution_count": 10,
   "id": "d6a813e8",
   "metadata": {},
   "outputs": [
    {
     "data": {
      "text/plain": [
       "dtype('int32')"
      ]
     },
     "execution_count": 10,
     "metadata": {},
     "output_type": "execute_result"
    }
   ],
   "source": [
    "#Get Type\n",
    "a.dtype"
   ]
  },
  {
   "cell_type": "code",
   "execution_count": 11,
   "id": "78b1868c",
   "metadata": {},
   "outputs": [
    {
     "data": {
      "text/plain": [
       "dtype('float64')"
      ]
     },
     "execution_count": 11,
     "metadata": {},
     "output_type": "execute_result"
    }
   ],
   "source": [
    "b.dtype"
   ]
  },
  {
   "cell_type": "code",
   "execution_count": 12,
   "id": "ef6d2629",
   "metadata": {},
   "outputs": [
    {
     "data": {
      "text/plain": [
       "dtype('int16')"
      ]
     },
     "execution_count": 12,
     "metadata": {},
     "output_type": "execute_result"
    }
   ],
   "source": [
    "# Change dtype\n",
    "c = np.array([1,2,3], dtype='int16')\n",
    "c.dtype"
   ]
  },
  {
   "cell_type": "code",
   "execution_count": 16,
   "id": "e0501f8f",
   "metadata": {},
   "outputs": [
    {
     "data": {
      "text/plain": [
       "4"
      ]
     },
     "execution_count": 16,
     "metadata": {},
     "output_type": "execute_result"
    }
   ],
   "source": [
    "# Get size of each element\n",
    "a.itemsize"
   ]
  },
  {
   "cell_type": "code",
   "execution_count": 17,
   "id": "e65835f5",
   "metadata": {},
   "outputs": [
    {
     "data": {
      "text/plain": [
       "8"
      ]
     },
     "execution_count": 17,
     "metadata": {},
     "output_type": "execute_result"
    }
   ],
   "source": [
    "b.itemsize"
   ]
  },
  {
   "cell_type": "code",
   "execution_count": 18,
   "id": "487514c8",
   "metadata": {},
   "outputs": [
    {
     "data": {
      "text/plain": [
       "2"
      ]
     },
     "execution_count": 18,
     "metadata": {},
     "output_type": "execute_result"
    }
   ],
   "source": [
    "c.itemsize"
   ]
  },
  {
   "cell_type": "code",
   "execution_count": 20,
   "id": "1edc3162",
   "metadata": {},
   "outputs": [
    {
     "data": {
      "text/plain": [
       "3"
      ]
     },
     "execution_count": 20,
     "metadata": {},
     "output_type": "execute_result"
    }
   ],
   "source": [
    "# Get size of array ( number of elements)\n",
    "a.size"
   ]
  },
  {
   "cell_type": "code",
   "execution_count": 21,
   "id": "344c7895",
   "metadata": {},
   "outputs": [
    {
     "data": {
      "text/plain": [
       "12"
      ]
     },
     "execution_count": 21,
     "metadata": {},
     "output_type": "execute_result"
    }
   ],
   "source": [
    "# Get total size\n",
    "a.size * a.itemsize"
   ]
  },
  {
   "cell_type": "code",
   "execution_count": 22,
   "id": "998fecd3",
   "metadata": {},
   "outputs": [
    {
     "data": {
      "text/plain": [
       "12"
      ]
     },
     "execution_count": 22,
     "metadata": {},
     "output_type": "execute_result"
    }
   ],
   "source": [
    "# Get total size (alternatively)\n",
    "a.nbytes"
   ]
  },
  {
   "cell_type": "markdown",
   "id": "839bf7f7",
   "metadata": {},
   "source": [
    "# Acessing/ Changing specific elements, rows, columns etc"
   ]
  },
  {
   "cell_type": "code",
   "execution_count": 23,
   "id": "31b0593b",
   "metadata": {},
   "outputs": [
    {
     "name": "stdout",
     "output_type": "stream",
     "text": [
      "[[ 1  2  3  4  5  6  7]\n",
      " [ 8  9 10 11 12 13 14]]\n"
     ]
    }
   ],
   "source": [
    "a = np.array([[1,2,3,4,5,6,7],[8,9,10,11,12,13,14]])\n",
    "print(a)"
   ]
  },
  {
   "cell_type": "code",
   "execution_count": 24,
   "id": "e7228d94",
   "metadata": {},
   "outputs": [
    {
     "data": {
      "text/plain": [
       "13"
      ]
     },
     "execution_count": 24,
     "metadata": {},
     "output_type": "execute_result"
    }
   ],
   "source": [
    "# get specific elements [r,c]\n",
    "a[1,5]"
   ]
  },
  {
   "cell_type": "code",
   "execution_count": 26,
   "id": "0c57e9b7",
   "metadata": {},
   "outputs": [
    {
     "data": {
      "text/plain": [
       "array([1, 2, 3, 4, 5, 6, 7])"
      ]
     },
     "execution_count": 26,
     "metadata": {},
     "output_type": "execute_result"
    }
   ],
   "source": [
    "# get specific row ( example index position 0 and all columns)\n",
    "a[0,:]"
   ]
  },
  {
   "cell_type": "code",
   "execution_count": 27,
   "id": "2f7d10f2",
   "metadata": {},
   "outputs": [
    {
     "data": {
      "text/plain": [
       "array([ 3, 10])"
      ]
     },
     "execution_count": 27,
     "metadata": {},
     "output_type": "execute_result"
    }
   ],
   "source": [
    "# get specific column and all rows\n",
    "a[:,2]"
   ]
  },
  {
   "cell_type": "code",
   "execution_count": 28,
   "id": "92364ade",
   "metadata": {},
   "outputs": [
    {
     "data": {
      "text/plain": [
       "array([2, 4, 6])"
      ]
     },
     "execution_count": 28,
     "metadata": {},
     "output_type": "execute_result"
    }
   ],
   "source": [
    "# getting a little more fancy [ startindex:endindex:stepsize]\n",
    "a[0, 1:-1:2]"
   ]
  },
  {
   "cell_type": "code",
   "execution_count": 30,
   "id": "c4f2e262",
   "metadata": {},
   "outputs": [
    {
     "name": "stdout",
     "output_type": "stream",
     "text": [
      "[[ 1  2  3  4  5  6  7]\n",
      " [ 8  9 10 11 12 20 14]]\n"
     ]
    }
   ],
   "source": [
    "# change values in the matrices\n",
    "a[1,5] = 20\n",
    "print(a)"
   ]
  },
  {
   "cell_type": "code",
   "execution_count": 31,
   "id": "59c69812",
   "metadata": {},
   "outputs": [
    {
     "name": "stdout",
     "output_type": "stream",
     "text": [
      "[[ 1  2 99  4  5  6  7]\n",
      " [ 8  9 99 11 12 20 14]]\n"
     ]
    }
   ],
   "source": [
    "# change the columns in each row to a specific value\n",
    "a[:,2]= 99\n",
    "print(a)"
   ]
  },
  {
   "cell_type": "code",
   "execution_count": 32,
   "id": "e5b4982d",
   "metadata": {},
   "outputs": [
    {
     "name": "stdout",
     "output_type": "stream",
     "text": [
      "[[  1   2 100   4   5   6   7]\n",
      " [  8   9 200  11  12  20  14]]\n"
     ]
    }
   ],
   "source": [
    "# change the columns in each row with different numbers\n",
    "a[:,2]= [100,200]\n",
    "print(a)"
   ]
  },
  {
   "cell_type": "markdown",
   "id": "94aa68ba",
   "metadata": {},
   "source": [
    "# 3D examples"
   ]
  },
  {
   "cell_type": "code",
   "execution_count": 34,
   "id": "53b29176",
   "metadata": {},
   "outputs": [
    {
     "name": "stdout",
     "output_type": "stream",
     "text": [
      "[[[1 2]\n",
      "  [3 4]]\n",
      "\n",
      " [[5 6]\n",
      "  [7 8]]]\n"
     ]
    }
   ],
   "source": [
    "b = np.array([[[1,2],[3,4]],[[5,6],[7,8]]])\n",
    "print(b)"
   ]
  },
  {
   "cell_type": "code",
   "execution_count": 35,
   "id": "65b95396",
   "metadata": {},
   "outputs": [
    {
     "data": {
      "text/plain": [
       "2"
      ]
     },
     "execution_count": 35,
     "metadata": {},
     "output_type": "execute_result"
    }
   ],
   "source": [
    "b[0,0,1]"
   ]
  },
  {
   "cell_type": "code",
   "execution_count": 36,
   "id": "2fc7c04e",
   "metadata": {},
   "outputs": [
    {
     "data": {
      "text/plain": [
       "array([[3, 4],\n",
       "       [7, 8]])"
      ]
     },
     "execution_count": 36,
     "metadata": {},
     "output_type": "execute_result"
    }
   ],
   "source": [
    "b[:,1,:]    # [r,c,l]"
   ]
  },
  {
   "cell_type": "code",
   "execution_count": 38,
   "id": "6adc6276",
   "metadata": {},
   "outputs": [
    {
     "name": "stdout",
     "output_type": "stream",
     "text": [
      "[[[1 2]\n",
      "  [9 9]]\n",
      "\n",
      " [[5 6]\n",
      "  [8 8]]]\n"
     ]
    }
   ],
   "source": [
    "# replace segments\n",
    "b[:,1,:] = [[9,9],[8,8]]\n",
    "print(b)"
   ]
  },
  {
   "cell_type": "markdown",
   "id": "3a7328b7",
   "metadata": {},
   "source": [
    "# Initializing different types of array"
   ]
  },
  {
   "cell_type": "markdown",
   "id": "921404e4",
   "metadata": {},
   "source": [
    "## All zeroes"
   ]
  },
  {
   "cell_type": "code",
   "execution_count": 39,
   "id": "9dd569e9",
   "metadata": {},
   "outputs": [
    {
     "data": {
      "text/plain": [
       "array([0., 0., 0., 0., 0.])"
      ]
     },
     "execution_count": 39,
     "metadata": {},
     "output_type": "execute_result"
    }
   ],
   "source": [
    "np.zeros(5)"
   ]
  },
  {
   "cell_type": "code",
   "execution_count": 40,
   "id": "17106775",
   "metadata": {},
   "outputs": [
    {
     "data": {
      "text/plain": [
       "array([[0., 0., 0.],\n",
       "       [0., 0., 0.]])"
      ]
     },
     "execution_count": 40,
     "metadata": {},
     "output_type": "execute_result"
    }
   ],
   "source": [
    "np.zeros((2,3))"
   ]
  },
  {
   "cell_type": "code",
   "execution_count": 41,
   "id": "6a148662",
   "metadata": {},
   "outputs": [
    {
     "data": {
      "text/plain": [
       "array([[[0., 0., 0.],\n",
       "        [0., 0., 0.],\n",
       "        [0., 0., 0.]],\n",
       "\n",
       "       [[0., 0., 0.],\n",
       "        [0., 0., 0.],\n",
       "        [0., 0., 0.]]])"
      ]
     },
     "execution_count": 41,
     "metadata": {},
     "output_type": "execute_result"
    }
   ],
   "source": [
    "np.zeros((2,3,3))"
   ]
  },
  {
   "cell_type": "code",
   "execution_count": 42,
   "id": "808111ad",
   "metadata": {},
   "outputs": [
    {
     "data": {
      "text/plain": [
       "array([[[[0., 0., 0., 0.],\n",
       "         [0., 0., 0., 0.],\n",
       "         [0., 0., 0., 0.]],\n",
       "\n",
       "        [[0., 0., 0., 0.],\n",
       "         [0., 0., 0., 0.],\n",
       "         [0., 0., 0., 0.]],\n",
       "\n",
       "        [[0., 0., 0., 0.],\n",
       "         [0., 0., 0., 0.],\n",
       "         [0., 0., 0., 0.]]],\n",
       "\n",
       "\n",
       "       [[[0., 0., 0., 0.],\n",
       "         [0., 0., 0., 0.],\n",
       "         [0., 0., 0., 0.]],\n",
       "\n",
       "        [[0., 0., 0., 0.],\n",
       "         [0., 0., 0., 0.],\n",
       "         [0., 0., 0., 0.]],\n",
       "\n",
       "        [[0., 0., 0., 0.],\n",
       "         [0., 0., 0., 0.],\n",
       "         [0., 0., 0., 0.]]]])"
      ]
     },
     "execution_count": 42,
     "metadata": {},
     "output_type": "execute_result"
    }
   ],
   "source": [
    "np.zeros((2,3,3,4))"
   ]
  },
  {
   "cell_type": "markdown",
   "id": "3ce17166",
   "metadata": {},
   "source": [
    "## All 1s matrix"
   ]
  },
  {
   "cell_type": "code",
   "execution_count": 45,
   "id": "75d99e39",
   "metadata": {},
   "outputs": [
    {
     "data": {
      "text/plain": [
       "array([[[1, 1, 1],\n",
       "        [1, 1, 1],\n",
       "        [1, 1, 1],\n",
       "        [1, 1, 1],\n",
       "        [1, 1, 1]],\n",
       "\n",
       "       [[1, 1, 1],\n",
       "        [1, 1, 1],\n",
       "        [1, 1, 1],\n",
       "        [1, 1, 1],\n",
       "        [1, 1, 1]],\n",
       "\n",
       "       [[1, 1, 1],\n",
       "        [1, 1, 1],\n",
       "        [1, 1, 1],\n",
       "        [1, 1, 1],\n",
       "        [1, 1, 1]],\n",
       "\n",
       "       [[1, 1, 1],\n",
       "        [1, 1, 1],\n",
       "        [1, 1, 1],\n",
       "        [1, 1, 1],\n",
       "        [1, 1, 1]]])"
      ]
     },
     "execution_count": 45,
     "metadata": {},
     "output_type": "execute_result"
    }
   ],
   "source": [
    "np.ones((4,5,3), dtype='int32')"
   ]
  },
  {
   "cell_type": "markdown",
   "id": "ad62486d",
   "metadata": {},
   "source": [
    "## any number"
   ]
  },
  {
   "cell_type": "code",
   "execution_count": 46,
   "id": "6fe4d580",
   "metadata": {},
   "outputs": [
    {
     "data": {
      "text/plain": [
       "array([[99., 99.],\n",
       "       [99., 99.]], dtype=float32)"
      ]
     },
     "execution_count": 46,
     "metadata": {},
     "output_type": "execute_result"
    }
   ],
   "source": [
    "np.full((2,2),99, dtype = 'float32')"
   ]
  },
  {
   "cell_type": "code",
   "execution_count": 47,
   "id": "407cc9e6",
   "metadata": {},
   "outputs": [
    {
     "data": {
      "text/plain": [
       "array([[4, 4, 4, 4, 4, 4, 4],\n",
       "       [4, 4, 4, 4, 4, 4, 4]])"
      ]
     },
     "execution_count": 47,
     "metadata": {},
     "output_type": "execute_result"
    }
   ],
   "source": [
    "# any other number using previous shape(full_like)\n",
    "a.shape\n",
    "np.full_like(a,4)"
   ]
  },
  {
   "cell_type": "code",
   "execution_count": 48,
   "id": "5058976e",
   "metadata": {},
   "outputs": [
    {
     "data": {
      "text/plain": [
       "array([[0.08880604, 0.50269916],\n",
       "       [0.74098586, 0.39954873],\n",
       "       [0.78881876, 0.94706066],\n",
       "       [0.94490052, 0.16288698]])"
      ]
     },
     "execution_count": 48,
     "metadata": {},
     "output_type": "execute_result"
    }
   ],
   "source": [
    "# random decimal numbers\n",
    "np.random.rand(4,2)"
   ]
  },
  {
   "cell_type": "code",
   "execution_count": 49,
   "id": "d0844a1b",
   "metadata": {},
   "outputs": [
    {
     "data": {
      "text/plain": [
       "array([[0.45399463, 0.02987765, 0.9008056 , 0.39397158, 0.17839776,\n",
       "        0.30268918, 0.83041705],\n",
       "       [0.32612946, 0.51065575, 0.69454284, 0.35251433, 0.09637707,\n",
       "        0.91838423, 0.17782828]])"
      ]
     },
     "execution_count": 49,
     "metadata": {},
     "output_type": "execute_result"
    }
   ],
   "source": [
    "np.random.random_sample(a.shape)"
   ]
  },
  {
   "cell_type": "code",
   "execution_count": 50,
   "id": "a3aa9759",
   "metadata": {},
   "outputs": [
    {
     "data": {
      "text/plain": [
       "6"
      ]
     },
     "execution_count": 50,
     "metadata": {},
     "output_type": "execute_result"
    }
   ],
   "source": [
    "# random integer values\n",
    "np.random.randint(7)"
   ]
  },
  {
   "cell_type": "code",
   "execution_count": 51,
   "id": "a3a8e3c8",
   "metadata": {},
   "outputs": [
    {
     "data": {
      "text/plain": [
       "array([[ 6, -2,  3],\n",
       "       [ 3,  6,  1],\n",
       "       [ 0,  4,  0]])"
      ]
     },
     "execution_count": 51,
     "metadata": {},
     "output_type": "execute_result"
    }
   ],
   "source": [
    "np.random.randint(-4,7, size = (3,3))"
   ]
  },
  {
   "cell_type": "code",
   "execution_count": 52,
   "id": "4c0b7eaf",
   "metadata": {},
   "outputs": [
    {
     "data": {
      "text/plain": [
       "array([[1., 0., 0., 0., 0.],\n",
       "       [0., 1., 0., 0., 0.],\n",
       "       [0., 0., 1., 0., 0.],\n",
       "       [0., 0., 0., 1., 0.],\n",
       "       [0., 0., 0., 0., 1.]])"
      ]
     },
     "execution_count": 52,
     "metadata": {},
     "output_type": "execute_result"
    }
   ],
   "source": [
    "# identity matrix\n",
    "np.identity(5)"
   ]
  },
  {
   "cell_type": "code",
   "execution_count": 55,
   "id": "b13f3724",
   "metadata": {},
   "outputs": [
    {
     "name": "stdout",
     "output_type": "stream",
     "text": [
      "[1 1 1 2 2 2 3 3 3]\n"
     ]
    }
   ],
   "source": [
    "# repeat an array\n",
    "arr = np.array([1,2,3])\n",
    "r1 = np.repeat(arr,3, axis = 0)\n",
    "print(r1)"
   ]
  },
  {
   "cell_type": "code",
   "execution_count": 56,
   "id": "4941b172",
   "metadata": {},
   "outputs": [
    {
     "name": "stdout",
     "output_type": "stream",
     "text": [
      "[[1 2 3]\n",
      " [1 2 3]\n",
      " [1 2 3]]\n"
     ]
    }
   ],
   "source": [
    "arr = np.array([[1,2,3]])\n",
    "r1 = np.repeat(arr,3, axis = 0)\n",
    "print(r1)"
   ]
  },
  {
   "cell_type": "code",
   "execution_count": 57,
   "id": "248716e0",
   "metadata": {},
   "outputs": [
    {
     "name": "stdout",
     "output_type": "stream",
     "text": [
      "[[1 1 1 2 2 2 3 3 3]]\n"
     ]
    }
   ],
   "source": [
    "arr = np.array([[1,2,3]])\n",
    "r1 = np.repeat(arr,3, axis = 1)\n",
    "print(r1)"
   ]
  },
  {
   "attachments": {
    "image.png": {
     "image/png": "[encoded data removed]"
    }
   },
   "cell_type": "markdown",
   "id": "08b29c19",
   "metadata": {},
   "source": [
    "# example problem\n",
    "![image.png](attachment:image.png)"
   ]
  },
  {
   "cell_type": "markdown",
   "id": "5ce024db",
   "metadata": {},
   "source": [
    "## Solution"
   ]
  },
  {
   "cell_type": "code",
   "execution_count": 59,
   "id": "7a1f2641",
   "metadata": {},
   "outputs": [
    {
     "name": "stdout",
     "output_type": "stream",
     "text": [
      "[[1 1 1 1 1]\n",
      " [1 0 0 0 1]\n",
      " [1 0 9 0 1]\n",
      " [1 0 0 0 1]\n",
      " [1 1 1 1 1]]\n"
     ]
    }
   ],
   "source": [
    "new_arr = np.full((5,5),1)\n",
    "new_arr[1:-1,1:-1] = 0\n",
    "new_arr[new_arr.shape[0]//2,new_arr.shape[0]//2] = 9\n",
    "print(new_arr)"
   ]
  },
  {
   "cell_type": "markdown",
   "id": "9370a44a",
   "metadata": {},
   "source": [
    "# Alternate solution"
   ]
  },
  {
   "cell_type": "code",
   "execution_count": 60,
   "id": "b5b22316",
   "metadata": {},
   "outputs": [
    {
     "name": "stdout",
     "output_type": "stream",
     "text": [
      "[[1. 1. 1. 1. 1.]\n",
      " [1. 0. 0. 0. 1.]\n",
      " [1. 0. 9. 0. 1.]\n",
      " [1. 0. 0. 0. 1.]\n",
      " [1. 1. 1. 1. 1.]]\n"
     ]
    }
   ],
   "source": [
    "output = np.ones((5,5))\n",
    "z = np.zeros((3,3))\n",
    "z[1,1] = 9\n",
    "output[1:-1,1:-1] = z\n",
    "print(output)"
   ]
  },
  {
   "cell_type": "markdown",
   "id": "2aa3a2c1",
   "metadata": {},
   "source": [
    "# be careful when copying array!!"
   ]
  },
  {
   "cell_type": "code",
   "execution_count": 61,
   "id": "8d305bbe",
   "metadata": {},
   "outputs": [
    {
     "data": {
      "text/plain": [
       "array([1, 2, 3])"
      ]
     },
     "execution_count": 61,
     "metadata": {},
     "output_type": "execute_result"
    }
   ],
   "source": [
    "a = np.array([1,2,3])\n",
    "b = a\n",
    "b"
   ]
  },
  {
   "cell_type": "code",
   "execution_count": 62,
   "id": "7e42dad2",
   "metadata": {},
   "outputs": [
    {
     "name": "stdout",
     "output_type": "stream",
     "text": [
      "[100   2   3]\n",
      "[100   2   3]\n"
     ]
    }
   ],
   "source": [
    "b[0]=100\n",
    "print(a)\n",
    "print(b)\n",
    "\n",
    "# changes are reflected on 'a' as well. We did not copy values but instead created a reference!!"
   ]
  },
  {
   "cell_type": "code",
   "execution_count": 63,
   "id": "f82b2904",
   "metadata": {},
   "outputs": [
    {
     "name": "stdout",
     "output_type": "stream",
     "text": [
      "[100   2   3]\n",
      "[200   2   3]\n"
     ]
    }
   ],
   "source": [
    "# use this instead \n",
    "b = a.copy()\n",
    "b[0] = 200\n",
    "print(a)\n",
    "print(b)"
   ]
  },
  {
   "cell_type": "markdown",
   "id": "271795eb",
   "metadata": {},
   "source": [
    "# Mathematics"
   ]
  },
  {
   "cell_type": "code",
   "execution_count": 64,
   "id": "9e40a75b",
   "metadata": {},
   "outputs": [
    {
     "name": "stdout",
     "output_type": "stream",
     "text": [
      "[1 2 3 4]\n"
     ]
    }
   ],
   "source": [
    "a = np.array([1,2,3,4])\n",
    "print(a)"
   ]
  },
  {
   "cell_type": "code",
   "execution_count": 65,
   "id": "591c8fde",
   "metadata": {},
   "outputs": [
    {
     "name": "stdout",
     "output_type": "stream",
     "text": [
      "[3 4 5 6]\n",
      "[1 2 3 4]\n",
      "[2 4 6 8]\n",
      "[1. 2. 3. 4.]\n"
     ]
    }
   ],
   "source": [
    "a+=2\n",
    "print(a)\n",
    "\n",
    "a = a-2\n",
    "print(a)\n",
    "\n",
    "a = a*2\n",
    "print(a)\n",
    "\n",
    "a = a/2\n",
    "print(a)"
   ]
  },
  {
   "cell_type": "code",
   "execution_count": null,
   "id": "2b6ce2fc",
   "metadata": {},
   "outputs": [],
   "source": []
  },
  {
   "cell_type": "code",
   "execution_count": 66,
   "id": "7bb0d974",
   "metadata": {},
   "outputs": [
    {
     "data": {
      "text/plain": [
       "array([2., 2., 4., 4.])"
      ]
     },
     "execution_count": 66,
     "metadata": {},
     "output_type": "execute_result"
    }
   ],
   "source": [
    "b = np.array([1,0,1,0])\n",
    "a+b"
   ]
  },
  {
   "cell_type": "code",
   "execution_count": 67,
   "id": "021f5a59",
   "metadata": {},
   "outputs": [
    {
     "data": {
      "text/plain": [
       "array([ 1.,  4.,  9., 16.])"
      ]
     },
     "execution_count": 67,
     "metadata": {},
     "output_type": "execute_result"
    }
   ],
   "source": [
    "a**2"
   ]
  },
  {
   "cell_type": "code",
   "execution_count": 68,
   "id": "e3e8f6be",
   "metadata": {},
   "outputs": [
    {
     "name": "stdout",
     "output_type": "stream",
     "text": [
      "[ 0.84147098  0.90929743  0.14112001 -0.7568025 ]\n",
      "[ 0.54030231 -0.41614684 -0.9899925  -0.65364362]\n"
     ]
    }
   ],
   "source": [
    "print(np.sin(a))\n",
    "print(np.cos(a))"
   ]
  },
  {
   "cell_type": "markdown",
   "id": "09c9e3b4",
   "metadata": {},
   "source": [
    "## Linear Algebra"
   ]
  },
  {
   "cell_type": "code",
   "execution_count": 69,
   "id": "ed631f30",
   "metadata": {},
   "outputs": [
    {
     "name": "stdout",
     "output_type": "stream",
     "text": [
      "[[1. 1. 1.]\n",
      " [1. 1. 1.]]\n",
      "[[2 2]\n",
      " [2 2]\n",
      " [2 2]]\n"
     ]
    }
   ],
   "source": [
    "a = np.ones((2,3))\n",
    "print(a)\n",
    "b = np.full((3,2),2)\n",
    "print(b)"
   ]
  },
  {
   "cell_type": "code",
   "execution_count": 70,
   "id": "103ab822",
   "metadata": {},
   "outputs": [
    {
     "name": "stdout",
     "output_type": "stream",
     "text": [
      "[[6. 6.]\n",
      " [6. 6.]]\n"
     ]
    }
   ],
   "source": [
    "try:\n",
    "    a*b # does not work because of different dimensions\n",
    "except:\n",
    "    print(np.matmul(a,b))"
   ]
  },
  {
   "cell_type": "code",
   "execution_count": 71,
   "id": "687e07bb",
   "metadata": {},
   "outputs": [
    {
     "data": {
      "text/plain": [
       "1.0"
      ]
     },
     "execution_count": 71,
     "metadata": {},
     "output_type": "execute_result"
    }
   ],
   "source": [
    "# find determinant\n",
    "c = np.identity(3)\n",
    "np.linalg.det(c)"
   ]
  },
  {
   "cell_type": "markdown",
   "id": "ba30d479",
   "metadata": {},
   "source": [
    "# Statistics"
   ]
  },
  {
   "cell_type": "code",
   "execution_count": 72,
   "id": "22bd8c34",
   "metadata": {},
   "outputs": [
    {
     "data": {
      "text/plain": [
       "array([[1, 2, 3],\n",
       "       [4, 5, 6]])"
      ]
     },
     "execution_count": 72,
     "metadata": {},
     "output_type": "execute_result"
    }
   ],
   "source": [
    "stats = np.array([[1,2,3],[4,5,6]])\n",
    "stats"
   ]
  },
  {
   "cell_type": "code",
   "execution_count": 73,
   "id": "8e6b9703",
   "metadata": {},
   "outputs": [
    {
     "data": {
      "text/plain": [
       "1"
      ]
     },
     "execution_count": 73,
     "metadata": {},
     "output_type": "execute_result"
    }
   ],
   "source": [
    "np.min(stats)"
   ]
  },
  {
   "cell_type": "code",
   "execution_count": 74,
   "id": "dc68e08a",
   "metadata": {},
   "outputs": [
    {
     "data": {
      "text/plain": [
       "array([1, 4])"
      ]
     },
     "execution_count": 74,
     "metadata": {},
     "output_type": "execute_result"
    }
   ],
   "source": [
    "np.min(stats, axis=1)"
   ]
  },
  {
   "cell_type": "code",
   "execution_count": 75,
   "id": "400d7af9",
   "metadata": {},
   "outputs": [
    {
     "data": {
      "text/plain": [
       "array([1, 2, 3])"
      ]
     },
     "execution_count": 75,
     "metadata": {},
     "output_type": "execute_result"
    }
   ],
   "source": [
    "np.min(stats, axis=0)"
   ]
  },
  {
   "cell_type": "code",
   "execution_count": 76,
   "id": "89f78989",
   "metadata": {},
   "outputs": [
    {
     "data": {
      "text/plain": [
       "6"
      ]
     },
     "execution_count": 76,
     "metadata": {},
     "output_type": "execute_result"
    }
   ],
   "source": [
    "np.max(stats)"
   ]
  },
  {
   "cell_type": "code",
   "execution_count": 77,
   "id": "8848c7d9",
   "metadata": {},
   "outputs": [
    {
     "data": {
      "text/plain": [
       "3.5"
      ]
     },
     "execution_count": 77,
     "metadata": {},
     "output_type": "execute_result"
    }
   ],
   "source": [
    "np.mean(stats)"
   ]
  },
  {
   "cell_type": "code",
   "execution_count": 78,
   "id": "9418ced2",
   "metadata": {},
   "outputs": [
    {
     "data": {
      "text/plain": [
       "21"
      ]
     },
     "execution_count": 78,
     "metadata": {},
     "output_type": "execute_result"
    }
   ],
   "source": [
    "np.sum(stats)"
   ]
  },
  {
   "cell_type": "code",
   "execution_count": 79,
   "id": "a9bb1b17",
   "metadata": {},
   "outputs": [
    {
     "data": {
      "text/plain": [
       "array([5, 7, 9])"
      ]
     },
     "execution_count": 79,
     "metadata": {},
     "output_type": "execute_result"
    }
   ],
   "source": [
    "np.sum(stats, axis = 0)"
   ]
  },
  {
   "cell_type": "code",
   "execution_count": 80,
   "id": "19b54168",
   "metadata": {},
   "outputs": [
    {
     "data": {
      "text/plain": [
       "array([ 6, 15])"
      ]
     },
     "execution_count": 80,
     "metadata": {},
     "output_type": "execute_result"
    }
   ],
   "source": [
    "np.sum(stats, axis = 1)"
   ]
  },
  {
   "cell_type": "markdown",
   "id": "be38249d",
   "metadata": {},
   "source": [
    "# Reorganizing arrays"
   ]
  },
  {
   "cell_type": "code",
   "execution_count": 81,
   "id": "cc47298c",
   "metadata": {},
   "outputs": [
    {
     "name": "stdout",
     "output_type": "stream",
     "text": [
      "[[1 2 3 4]\n",
      " [5 6 7 8]]\n",
      "[[1]\n",
      " [2]\n",
      " [3]\n",
      " [4]\n",
      " [5]\n",
      " [6]\n",
      " [7]\n",
      " [8]]\n",
      "[[1 2]\n",
      " [3 4]\n",
      " [5 6]\n",
      " [7 8]]\n",
      "[[[1 2]\n",
      "  [3 4]]\n",
      "\n",
      " [[5 6]\n",
      "  [7 8]]]\n"
     ]
    }
   ],
   "source": [
    "before = np.array([[1,2,3,4],[5,6,7,8]])\n",
    "print(before)\n",
    "\n",
    "after = before.reshape((8,1))\n",
    "print(after)\n",
    "\n",
    "after = before.reshape((4,2))\n",
    "print(after)\n",
    "\n",
    "after = before.reshape((2,2,2))\n",
    "print(after)"
   ]
  },
  {
   "cell_type": "code",
   "execution_count": 82,
   "id": "dd67ee84",
   "metadata": {},
   "outputs": [
    {
     "data": {
      "text/plain": [
       "array([[1, 2, 3, 4],\n",
       "       [5, 6, 7, 8],\n",
       "       [1, 2, 3, 4],\n",
       "       [5, 6, 7, 8]])"
      ]
     },
     "execution_count": 82,
     "metadata": {},
     "output_type": "execute_result"
    }
   ],
   "source": [
    "# Vertically stack vectors\n",
    "v1 = np.array([1,2,3,4])\n",
    "v2 = np.array([5,6,7,8])\n",
    "np.vstack([v1,v2,v1,v2])"
   ]
  },
  {
   "cell_type": "code",
   "execution_count": 83,
   "id": "50f0421d",
   "metadata": {},
   "outputs": [
    {
     "data": {
      "text/plain": [
       "array([1, 2, 3, 4, 5, 6, 7, 8, 1, 2, 3, 4, 5, 6, 7, 8])"
      ]
     },
     "execution_count": 83,
     "metadata": {},
     "output_type": "execute_result"
    }
   ],
   "source": [
    "# Horizontal stack\n",
    "np.hstack([v1,v2,v1,v2])"
   ]
  },
  {
   "cell_type": "markdown",
   "id": "53866be2",
   "metadata": {},
   "source": [
    "# Miscellaneous"
   ]
  },
  {
   "cell_type": "code",
   "execution_count": 84,
   "id": "70742cf6",
   "metadata": {},
   "outputs": [],
   "source": [
    "# load data from files\n",
    "filedata = np.genfromtxt('npdata.txt',delimiter = ',')"
   ]
  },
  {
   "cell_type": "code",
   "execution_count": 85,
   "id": "dddc5d6d",
   "metadata": {},
   "outputs": [],
   "source": [
    "# change dtype\n",
    "filedata = filedata.astype('int32')"
   ]
  },
  {
   "cell_type": "code",
   "execution_count": 86,
   "id": "948f16fc",
   "metadata": {},
   "outputs": [
    {
     "data": {
      "text/plain": [
       "array([[ 1,  2,  3,  4,  5,  6,  7,  8,  1,  2,  3,  4,  5,  6,  7,  8],\n",
       "       [ 3,  5,  7,  8,  9, 11,  8,  7,  3,  5,  7,  8,  9, 11,  8,  7]])"
      ]
     },
     "execution_count": 86,
     "metadata": {},
     "output_type": "execute_result"
    }
   ],
   "source": [
    "filedata"
   ]
  },
  {
   "cell_type": "markdown",
   "id": "14a2a72b",
   "metadata": {},
   "source": [
    "#### Boolean masking and advanced indexing"
   ]
  },
  {
   "cell_type": "code",
   "execution_count": 87,
   "id": "74cf9271",
   "metadata": {},
   "outputs": [
    {
     "data": {
      "text/plain": [
       "array([[False, False,  True,  True,  True,  True,  True,  True, False,\n",
       "        False,  True,  True,  True,  True,  True,  True],\n",
       "       [ True,  True,  True,  True,  True,  True,  True,  True,  True,\n",
       "         True,  True,  True,  True,  True,  True,  True]])"
      ]
     },
     "execution_count": 87,
     "metadata": {},
     "output_type": "execute_result"
    }
   ],
   "source": [
    "filedata > 2"
   ]
  },
  {
   "cell_type": "code",
   "execution_count": 88,
   "id": "32847299",
   "metadata": {},
   "outputs": [
    {
     "data": {
      "text/plain": [
       "array([ 5,  6,  7,  8,  5,  6,  7,  8,  5,  7,  8,  9, 11,  8,  7,  5,  7,\n",
       "        8,  9, 11,  8,  7])"
      ]
     },
     "execution_count": 88,
     "metadata": {},
     "output_type": "execute_result"
    }
   ],
   "source": [
    "filedata[filedata>4]"
   ]
  },
  {
   "cell_type": "code",
   "execution_count": 89,
   "id": "b71681fb",
   "metadata": {},
   "outputs": [
    {
     "data": {
      "text/plain": [
       "array([2, 3, 9])"
      ]
     },
     "execution_count": 89,
     "metadata": {},
     "output_type": "execute_result"
    }
   ],
   "source": [
    "# you can index with a list in numpy\n",
    "a = np.array([1,2,3,4,5,6,7,8,9])\n",
    "a[[1,2,8]]"
   ]
  },
  {
   "cell_type": "code",
   "execution_count": 90,
   "id": "ae3a0ce9",
   "metadata": {},
   "outputs": [
    {
     "data": {
      "text/plain": [
       "array([False, False,  True,  True,  True,  True,  True,  True, False,\n",
       "       False,  True,  True,  True,  True,  True,  True])"
      ]
     },
     "execution_count": 90,
     "metadata": {},
     "output_type": "execute_result"
    }
   ],
   "source": [
    "np.any(filedata> 5, axis = 0)"
   ]
  },
  {
   "cell_type": "code",
   "execution_count": 91,
   "id": "ce466654",
   "metadata": {},
   "outputs": [
    {
     "data": {
      "text/plain": [
       "array([False, False, False, False, False,  True,  True,  True, False,\n",
       "       False, False, False, False,  True,  True,  True])"
      ]
     },
     "execution_count": 91,
     "metadata": {},
     "output_type": "execute_result"
    }
   ],
   "source": [
    "np.all(filedata> 5, axis = 0)"
   ]
  },
  {
   "cell_type": "code",
   "execution_count": 92,
   "id": "e6edd9b7",
   "metadata": {},
   "outputs": [
    {
     "data": {
      "text/plain": [
       "array([ True,  True])"
      ]
     },
     "execution_count": 92,
     "metadata": {},
     "output_type": "execute_result"
    }
   ],
   "source": [
    "np.any(filedata> 5, axis = 1)"
   ]
  },
  {
   "cell_type": "code",
   "execution_count": 93,
   "id": "83a2db37",
   "metadata": {},
   "outputs": [
    {
     "data": {
      "text/plain": [
       "array([[False, False, False, False, False,  True, False, False, False,\n",
       "        False, False, False, False,  True, False, False],\n",
       "       [False, False, False, False, False, False, False, False, False,\n",
       "        False, False, False, False, False, False, False]])"
      ]
     },
     "execution_count": 93,
     "metadata": {},
     "output_type": "execute_result"
    }
   ],
   "source": [
    "((filedata> 5) & (filedata< 7))"
   ]
  },
  {
   "cell_type": "code",
   "execution_count": 94,
   "id": "b4f18e7c",
   "metadata": {},
   "outputs": [
    {
     "data": {
      "text/plain": [
       "array([[ True,  True,  True,  True,  True, False, False, False,  True,\n",
       "         True,  True,  True,  True, False, False, False],\n",
       "       [ True,  True, False, False, False, False, False, False,  True,\n",
       "         True, False, False, False, False, False, False]])"
      ]
     },
     "execution_count": 94,
     "metadata": {},
     "output_type": "execute_result"
    }
   ],
   "source": [
    "(~(filedata> 5) & (filedata< 7))"
   ]
  },
  {
   "cell_type": "code",
   "execution_count": null,
   "id": "74d6cbec",
   "metadata": {},
   "outputs": [],
   "source": []
  }
 ],
 "metadata": {
  "kernelspec": {
   "display_name": "Python 3 (ipykernel)",
   "language": "python",
   "name": "python3"
  },
  "language_info": {
   "codemirror_mode": {
    "name": "ipython",
    "version": 3
   },
   "file_extension": ".py",
   "mimetype": "text/x-python",
   "name": "python",
   "nbconvert_exporter": "python",
   "pygments_lexer": "ipython3",
   "version": "3.9.12"
  }
 },
 "nbformat": 4,
 "nbformat_minor": 5
}
